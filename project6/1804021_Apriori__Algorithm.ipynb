{
  "nbformat": 4,
  "nbformat_minor": 0,
  "metadata": {
    "colab": {
      "provenance": []
    },
    "kernelspec": {
      "name": "python3",
      "display_name": "Python 3"
    },
    "language_info": {
      "name": "python"
    }
  },
  "cells": [
    {
      "cell_type": "code",
      "source": [
        "from mlxtend.preprocessing import TransactionEncoder\n",
        "from mlxtend.frequent_patterns import apriori, association_rules\n",
        "import pandas as pd"
      ],
      "metadata": {
        "id": "vYQfAgWqSD_q"
      },
      "execution_count": null,
      "outputs": []
    },
    {
      "cell_type": "code",
      "source": [
        "def load_dataset():\n",
        "    df = pd.read_csv('store_data.csv')\n",
        "\n",
        "    df = df.drop_duplicates()\n",
        "\n",
        "    dataset = []\n",
        "    for _, row in df.iterrows():\n",
        "        transaction = set(str(item) for item in row.values)\n",
        "        dataset.append(transaction)\n",
        "\n",
        "    return dataset"
      ],
      "metadata": {
        "id": "38wXNBp4Sj8h"
      },
      "execution_count": null,
      "outputs": []
    },
    {
      "cell_type": "code",
      "source": [
        "\n",
        "dataset = load_dataset()\n",
        "\n",
        "te = TransactionEncoder()\n",
        "te_ary = te.fit_transform(dataset)\n",
        "df_encoded = pd.DataFrame(te_ary, columns=te.columns_)\n",
        "\n",
        "min_support = int(input(\"Enter the minimum support: \"))\n",
        "min_support/=100\n",
        "\n",
        "# Run Apriori algorithm to find frequent itemsets\n",
        "frequent_itemsets = apriori(df_encoded, min_support=min_support, use_colnames=True)\n",
        "\n",
        "if frequent_itemsets.empty:\n",
        "    print(\"No frequent itemsets found for the given minimum support.\")\n",
        "    exit()\n",
        "\n",
        "min_confidence = int(input(\"Enter the minimum confidence: \"))\n",
        "min_confidence/=100\n",
        "\n",
        "# Generate association rules\n",
        "rules = association_rules(frequent_itemsets, metric=\"confidence\", min_threshold=min_confidence)\n",
        "\n",
        "# print(rules)\n",
        "\n",
        "if rules.empty:\n",
        "    print(\"No association rules found for the given minimum confidence.\")\n",
        "    exit()\n",
        "\n",
        "# Print all association rules\n",
        "print(\"All Association Rules:\")\n",
        "for _, rule in rules.iterrows():\n",
        "    antecedents = ', '.join(rule['antecedents'])\n",
        "    consequents = ', '.join(rule['consequents'])\n",
        "    support = rule['support']\n",
        "    confidence = rule['confidence']\n",
        "    lift = rule['lift']\n",
        "\n",
        "    print(\"Rule: {} -> {}\".format(antecedents, consequents))\n",
        "    print(\"Support: {:.4f}\".format(support))\n",
        "    print(\"Confidence: {:.4f}\".format(confidence))\n",
        "    print(\"Lift: {:.4f}\".format(lift))\n",
        "    print()\n"
      ],
      "metadata": {
        "colab": {
          "base_uri": "https://localhost:8080/"
        },
        "id": "OLcuWE82CKer",
        "outputId": "8f693fc6-c6d4-409e-c5fd-f0137ef98045"
      },
      "execution_count": null,
      "outputs": [
        {
          "output_type": "stream",
          "name": "stdout",
          "text": [
            "Enter the minimum support: 10\n",
            "Enter the minimum confidence: 60\n",
            "All Association Rules:\n",
            "Rule: burgers -> nan\n",
            "Support: 0.1138\n",
            "Confidence: 1.0000\n",
            "Lift: 1.0000\n",
            "\n",
            "Rule: cake -> nan\n",
            "Support: 0.1036\n",
            "Confidence: 1.0000\n",
            "Lift: 1.0000\n",
            "\n",
            "Rule: chocolate -> nan\n",
            "Support: 0.2052\n",
            "Confidence: 1.0000\n",
            "Lift: 1.0000\n",
            "\n",
            "Rule: eggs -> nan\n",
            "Support: 0.2081\n",
            "Confidence: 1.0000\n",
            "Lift: 1.0000\n",
            "\n",
            "Rule: french fries -> nan\n",
            "Support: 0.1927\n",
            "Confidence: 1.0000\n",
            "Lift: 1.0000\n",
            "\n",
            "Rule: frozen vegetables -> nan\n",
            "Support: 0.1299\n",
            "Confidence: 1.0000\n",
            "Lift: 1.0000\n",
            "\n",
            "Rule: green tea -> nan\n",
            "Support: 0.1691\n",
            "Confidence: 1.0000\n",
            "Lift: 1.0000\n",
            "\n",
            "Rule: ground beef -> nan\n",
            "Support: 0.1358\n",
            "Confidence: 1.0000\n",
            "Lift: 1.0000\n",
            "\n",
            "Rule: milk -> nan\n",
            "Support: 0.1700\n",
            "Confidence: 1.0000\n",
            "Lift: 1.0000\n",
            "\n",
            "Rule: mineral water -> nan\n",
            "Support: 0.2997\n",
            "Confidence: 1.0000\n",
            "Lift: 1.0000\n",
            "\n",
            "Rule: pancakes -> nan\n",
            "Support: 0.1252\n",
            "Confidence: 1.0000\n",
            "Lift: 1.0000\n",
            "\n",
            "Rule: spaghetti -> nan\n",
            "Support: 0.2296\n",
            "Confidence: 1.0000\n",
            "Lift: 1.0000\n",
            "\n"
          ]
        }
      ]
    },
    {
      "cell_type": "code",
      "source": [
        "\n",
        "num_rules = int(input(\"Enter the number of association rules to display: \"))\n",
        "\n",
        "sorted_rules = rules.sort_values(by=\"confidence\", ascending=False)\n",
        "\n",
        "top_rules = sorted_rules.head(num_rules)\n",
        "\n",
        "# Print top N association rules\n",
        "print(\"Top {} Association Rules:\".format(num_rules))\n",
        "for _, rule in top_rules.iterrows():\n",
        "    antecedents = ', '.join(rule['antecedents'])\n",
        "    consequents = ', '.join(rule['consequents'])\n",
        "    support = rule['support']\n",
        "    confidence = rule['confidence']\n",
        "    lift = rule['lift']\n",
        "\n",
        "    print(\"Rule: {} -> {}\".format(antecedents, consequents))\n",
        "    print(\"Support: {:.4f}\".format(support))\n",
        "    print(\"Confidence: {:.4f}\".format(confidence))\n",
        "    print(\"Lift: {:.4f}\".format(lift))\n",
        "    print()\n",
        "\n"
      ],
      "metadata": {
        "colab": {
          "base_uri": "https://localhost:8080/"
        },
        "id": "H0vqvY_oUVrQ",
        "outputId": "084ef958-3005-47be-a903-fb5551d6dc6d"
      },
      "execution_count": null,
      "outputs": [
        {
          "output_type": "stream",
          "name": "stdout",
          "text": [
            "Enter the number of association rules to display: 10\n",
            "Top 10 Association Rules:\n",
            "Rule: burgers -> nan\n",
            "Support: 0.1138\n",
            "Confidence: 1.0000\n",
            "Lift: 1.0000\n",
            "\n",
            "Rule: cake -> nan\n",
            "Support: 0.1036\n",
            "Confidence: 1.0000\n",
            "Lift: 1.0000\n",
            "\n",
            "Rule: chocolate -> nan\n",
            "Support: 0.2052\n",
            "Confidence: 1.0000\n",
            "Lift: 1.0000\n",
            "\n",
            "Rule: eggs -> nan\n",
            "Support: 0.2081\n",
            "Confidence: 1.0000\n",
            "Lift: 1.0000\n",
            "\n",
            "Rule: french fries -> nan\n",
            "Support: 0.1927\n",
            "Confidence: 1.0000\n",
            "Lift: 1.0000\n",
            "\n",
            "Rule: frozen vegetables -> nan\n",
            "Support: 0.1299\n",
            "Confidence: 1.0000\n",
            "Lift: 1.0000\n",
            "\n",
            "Rule: green tea -> nan\n",
            "Support: 0.1691\n",
            "Confidence: 1.0000\n",
            "Lift: 1.0000\n",
            "\n",
            "Rule: ground beef -> nan\n",
            "Support: 0.1358\n",
            "Confidence: 1.0000\n",
            "Lift: 1.0000\n",
            "\n",
            "Rule: milk -> nan\n",
            "Support: 0.1700\n",
            "Confidence: 1.0000\n",
            "Lift: 1.0000\n",
            "\n",
            "Rule: mineral water -> nan\n",
            "Support: 0.2997\n",
            "Confidence: 1.0000\n",
            "Lift: 1.0000\n",
            "\n"
          ]
        }
      ]
    },
    {
      "cell_type": "code",
      "source": [],
      "metadata": {
        "id": "fujdUTp9Coh4"
      },
      "execution_count": null,
      "outputs": []
    }
  ]
}