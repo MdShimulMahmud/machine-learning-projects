{
  "nbformat": 4,
  "nbformat_minor": 0,
  "metadata": {
    "colab": {
      "provenance": []
    },
    "kernelspec": {
      "name": "python3",
      "display_name": "Python 3"
    },
    "language_info": {
      "name": "python"
    }
  },
  "cells": [
    {
      "cell_type": "code",
      "execution_count": null,
      "metadata": {
        "id": "DH-K3QgWi-db"
      },
      "outputs": [],
      "source": [
        "import numpy as np\n",
        "import pandas as pd\n",
        "import re\n",
        "from sklearn.model_selection import train_test_split\n",
        "from sklearn.preprocessing import MinMaxScaler, StandardScaler\n",
        "from sklearn.metrics import mean_squared_error\n"
      ]
    },
    {
      "cell_type": "code",
      "source": [
        "data = pd.read_csv('/content/property_listing_data_in_Bangladesh.csv')\n",
        "data = data.drop(columns=['title', 'adress', 'type', 'purpose', 'flooPlan', 'url', 'lastUpdated'])\n",
        "data.head()"
      ],
      "metadata": {
        "colab": {
          "base_uri": "https://localhost:8080/",
          "height": 206
        },
        "id": "mBsgCssyjCyC",
        "outputId": "6a3f12ad-76be-449e-cef2-ce70122ade56"
      },
      "execution_count": null,
      "outputs": [
        {
          "output_type": "execute_result",
          "data": {
            "text/plain": [
              "  beds bath        area        price\n",
              "0   3    4   2,200 sqft  50 Thousand\n",
              "1   3    4   1,400 sqft  30 Thousand\n",
              "2   3    4   1,950 sqft  30 Thousand\n",
              "3   3    3   2,000 sqft  35 Thousand\n",
              "4   3    4   1,650 sqft  25 Thousand"
            ],
            "text/html": [
              "\n",
              "  <div id=\"df-4eb869b5-cdcd-40ed-8197-4ec06fbfccd1\">\n",
              "    <div class=\"colab-df-container\">\n",
              "      <div>\n",
              "<style scoped>\n",
              "    .dataframe tbody tr th:only-of-type {\n",
              "        vertical-align: middle;\n",
              "    }\n",
              "\n",
              "    .dataframe tbody tr th {\n",
              "        vertical-align: top;\n",
              "    }\n",
              "\n",
              "    .dataframe thead th {\n",
              "        text-align: right;\n",
              "    }\n",
              "</style>\n",
              "<table border=\"1\" class=\"dataframe\">\n",
              "  <thead>\n",
              "    <tr style=\"text-align: right;\">\n",
              "      <th></th>\n",
              "      <th>beds</th>\n",
              "      <th>bath</th>\n",
              "      <th>area</th>\n",
              "      <th>price</th>\n",
              "    </tr>\n",
              "  </thead>\n",
              "  <tbody>\n",
              "    <tr>\n",
              "      <th>0</th>\n",
              "      <td>3</td>\n",
              "      <td>4</td>\n",
              "      <td>2,200 sqft</td>\n",
              "      <td>50 Thousand</td>\n",
              "    </tr>\n",
              "    <tr>\n",
              "      <th>1</th>\n",
              "      <td>3</td>\n",
              "      <td>4</td>\n",
              "      <td>1,400 sqft</td>\n",
              "      <td>30 Thousand</td>\n",
              "    </tr>\n",
              "    <tr>\n",
              "      <th>2</th>\n",
              "      <td>3</td>\n",
              "      <td>4</td>\n",
              "      <td>1,950 sqft</td>\n",
              "      <td>30 Thousand</td>\n",
              "    </tr>\n",
              "    <tr>\n",
              "      <th>3</th>\n",
              "      <td>3</td>\n",
              "      <td>3</td>\n",
              "      <td>2,000 sqft</td>\n",
              "      <td>35 Thousand</td>\n",
              "    </tr>\n",
              "    <tr>\n",
              "      <th>4</th>\n",
              "      <td>3</td>\n",
              "      <td>4</td>\n",
              "      <td>1,650 sqft</td>\n",
              "      <td>25 Thousand</td>\n",
              "    </tr>\n",
              "  </tbody>\n",
              "</table>\n",
              "</div>\n",
              "      <button class=\"colab-df-convert\" onclick=\"convertToInteractive('df-4eb869b5-cdcd-40ed-8197-4ec06fbfccd1')\"\n",
              "              title=\"Convert this dataframe to an interactive table.\"\n",
              "              style=\"display:none;\">\n",
              "        \n",
              "  <svg xmlns=\"http://www.w3.org/2000/svg\" height=\"24px\"viewBox=\"0 0 24 24\"\n",
              "       width=\"24px\">\n",
              "    <path d=\"M0 0h24v24H0V0z\" fill=\"none\"/>\n",
              "    <path d=\"M18.56 5.44l.94 2.06.94-2.06 2.06-.94-2.06-.94-.94-2.06-.94 2.06-2.06.94zm-11 1L8.5 8.5l.94-2.06 2.06-.94-2.06-.94L8.5 2.5l-.94 2.06-2.06.94zm10 10l.94 2.06.94-2.06 2.06-.94-2.06-.94-.94-2.06-.94 2.06-2.06.94z\"/><path d=\"M17.41 7.96l-1.37-1.37c-.4-.4-.92-.59-1.43-.59-.52 0-1.04.2-1.43.59L10.3 9.45l-7.72 7.72c-.78.78-.78 2.05 0 2.83L4 21.41c.39.39.9.59 1.41.59.51 0 1.02-.2 1.41-.59l7.78-7.78 2.81-2.81c.8-.78.8-2.07 0-2.86zM5.41 20L4 18.59l7.72-7.72 1.47 1.35L5.41 20z\"/>\n",
              "  </svg>\n",
              "      </button>\n",
              "      \n",
              "  <style>\n",
              "    .colab-df-container {\n",
              "      display:flex;\n",
              "      flex-wrap:wrap;\n",
              "      gap: 12px;\n",
              "    }\n",
              "\n",
              "    .colab-df-convert {\n",
              "      background-color: #E8F0FE;\n",
              "      border: none;\n",
              "      border-radius: 50%;\n",
              "      cursor: pointer;\n",
              "      display: none;\n",
              "      fill: #1967D2;\n",
              "      height: 32px;\n",
              "      padding: 0 0 0 0;\n",
              "      width: 32px;\n",
              "    }\n",
              "\n",
              "    .colab-df-convert:hover {\n",
              "      background-color: #E2EBFA;\n",
              "      box-shadow: 0px 1px 2px rgba(60, 64, 67, 0.3), 0px 1px 3px 1px rgba(60, 64, 67, 0.15);\n",
              "      fill: #174EA6;\n",
              "    }\n",
              "\n",
              "    [theme=dark] .colab-df-convert {\n",
              "      background-color: #3B4455;\n",
              "      fill: #D2E3FC;\n",
              "    }\n",
              "\n",
              "    [theme=dark] .colab-df-convert:hover {\n",
              "      background-color: #434B5C;\n",
              "      box-shadow: 0px 1px 3px 1px rgba(0, 0, 0, 0.15);\n",
              "      filter: drop-shadow(0px 1px 2px rgba(0, 0, 0, 0.3));\n",
              "      fill: #FFFFFF;\n",
              "    }\n",
              "  </style>\n",
              "\n",
              "      <script>\n",
              "        const buttonEl =\n",
              "          document.querySelector('#df-4eb869b5-cdcd-40ed-8197-4ec06fbfccd1 button.colab-df-convert');\n",
              "        buttonEl.style.display =\n",
              "          google.colab.kernel.accessAllowed ? 'block' : 'none';\n",
              "\n",
              "        async function convertToInteractive(key) {\n",
              "          const element = document.querySelector('#df-4eb869b5-cdcd-40ed-8197-4ec06fbfccd1');\n",
              "          const dataTable =\n",
              "            await google.colab.kernel.invokeFunction('convertToInteractive',\n",
              "                                                     [key], {});\n",
              "          if (!dataTable) return;\n",
              "\n",
              "          const docLinkHtml = 'Like what you see? Visit the ' +\n",
              "            '<a target=\"_blank\" href=https://colab.research.google.com/notebooks/data_table.ipynb>data table notebook</a>'\n",
              "            + ' to learn more about interactive tables.';\n",
              "          element.innerHTML = '';\n",
              "          dataTable['output_type'] = 'display_data';\n",
              "          await google.colab.output.renderOutput(dataTable, element);\n",
              "          const docLink = document.createElement('div');\n",
              "          docLink.innerHTML = docLinkHtml;\n",
              "          element.appendChild(docLink);\n",
              "        }\n",
              "      </script>\n",
              "    </div>\n",
              "  </div>\n",
              "  "
            ]
          },
          "metadata": {},
          "execution_count": 59
        }
      ]
    },
    {
      "cell_type": "code",
      "source": [
        "data.shape"
      ],
      "metadata": {
        "colab": {
          "base_uri": "https://localhost:8080/"
        },
        "id": "SSgAvPMtjPxU",
        "outputId": "a5e92c8f-4336-47fa-c41d-9950d298565f"
      },
      "execution_count": null,
      "outputs": [
        {
          "output_type": "execute_result",
          "data": {
            "text/plain": [
              "(7557, 4)"
            ]
          },
          "metadata": {},
          "execution_count": 60
        }
      ]
    },
    {
      "cell_type": "code",
      "source": [
        "beds_values = []\n",
        "for value in data['beds']:\n",
        "    match = re.search(r'\\d+', str(value))\n",
        "    if match:\n",
        "        beds_values.append(int(match.group()))\n",
        "    else:\n",
        "        beds_values.append(0)\n",
        "data['beds'] = beds_values\n",
        "data['beds']"
      ],
      "metadata": {
        "colab": {
          "base_uri": "https://localhost:8080/"
        },
        "id": "S6ATpqe4saax",
        "outputId": "8ba8619b-e25a-4da2-f7aa-cbf89869812d"
      },
      "execution_count": null,
      "outputs": [
        {
          "output_type": "execute_result",
          "data": {
            "text/plain": [
              "0       3\n",
              "1       3\n",
              "2       3\n",
              "3       3\n",
              "4       3\n",
              "       ..\n",
              "7552    4\n",
              "7553    3\n",
              "7554    2\n",
              "7555    3\n",
              "7556    4\n",
              "Name: beds, Length: 7557, dtype: int64"
            ]
          },
          "metadata": {},
          "execution_count": 61
        }
      ]
    },
    {
      "cell_type": "code",
      "source": [
        "bath_values = []\n",
        "for value in data['bath']:\n",
        "    match = re.search(r'\\d+', str(value))\n",
        "    if match:\n",
        "        bath_values.append(int(match.group()))\n",
        "    else:\n",
        "        bath_values.append(0)\n",
        "data['bath'] = bath_values\n",
        "\n",
        "data['bath']"
      ],
      "metadata": {
        "colab": {
          "base_uri": "https://localhost:8080/"
        },
        "id": "CjQl3dQEsdB6",
        "outputId": "13e7d213-a3cd-441b-ebdd-c04d6510ad81"
      },
      "execution_count": null,
      "outputs": [
        {
          "output_type": "execute_result",
          "data": {
            "text/plain": [
              "0       4\n",
              "1       4\n",
              "2       4\n",
              "3       3\n",
              "4       4\n",
              "       ..\n",
              "7552    4\n",
              "7553    2\n",
              "7554    2\n",
              "7555    4\n",
              "7556    4\n",
              "Name: bath, Length: 7557, dtype: int64"
            ]
          },
          "metadata": {},
          "execution_count": 62
        }
      ]
    },
    {
      "cell_type": "code",
      "source": [
        "area_values = []\n",
        "for value in data['area']:\n",
        "    if isinstance(value, str):\n",
        "        value = value.replace(',', '')\n",
        "        value = value.split(' ')[0]\n",
        "        if value.replace('.', '', 1).isdigit():\n",
        "            area_values.append(float(value))\n",
        "        else:\n",
        "            area_values.append(0.0)\n",
        "    else:\n",
        "        area_values.append(0.0)\n",
        "data['area'] = area_values\n",
        "\n",
        "\n",
        "data['area']"
      ],
      "metadata": {
        "colab": {
          "base_uri": "https://localhost:8080/"
        },
        "id": "Ix7G2JQhqEb4",
        "outputId": "c21d2e3f-7c85-4af2-8929-791af844dcfe"
      },
      "execution_count": null,
      "outputs": [
        {
          "output_type": "execute_result",
          "data": {
            "text/plain": [
              "0       2200.0\n",
              "1       1400.0\n",
              "2       1950.0\n",
              "3       2000.0\n",
              "4       1650.0\n",
              "         ...  \n",
              "7552    3600.0\n",
              "7553     900.0\n",
              "7554    1000.0\n",
              "7555    3600.0\n",
              "7556    2600.0\n",
              "Name: area, Length: 7557, dtype: float64"
            ]
          },
          "metadata": {},
          "execution_count": 63
        }
      ]
    },
    {
      "cell_type": "code",
      "source": [
        "price_values = []\n",
        "for value in data['price']:\n",
        "    if isinstance(value, str):\n",
        "        value = value.replace(',', '')\n",
        "        value = value.replace(' Thousand', '000')\n",
        "        value = value.replace(' Lakh', '00000')\n",
        "        if value.replace('.', '', 1).isdigit():\n",
        "            price_values.append(float(value))\n",
        "        else:\n",
        "            price_values.append(0.0)\n",
        "    else:\n",
        "        price_values.append(0.0)\n",
        "data['price'] = price_values\n"
      ],
      "metadata": {
        "id": "9vvYmKJtj9NK"
      },
      "execution_count": null,
      "outputs": []
    },
    {
      "cell_type": "code",
      "source": [
        "data.head()"
      ],
      "metadata": {
        "colab": {
          "base_uri": "https://localhost:8080/",
          "height": 206
        },
        "id": "avHBY6KNoSfg",
        "outputId": "7897a916-1019-4856-d504-888dd9b852ba"
      },
      "execution_count": null,
      "outputs": [
        {
          "output_type": "execute_result",
          "data": {
            "text/plain": [
              "   beds  bath    area    price\n",
              "0     3     4  2200.0  50000.0\n",
              "1     3     4  1400.0  30000.0\n",
              "2     3     4  1950.0  30000.0\n",
              "3     3     3  2000.0  35000.0\n",
              "4     3     4  1650.0  25000.0"
            ],
            "text/html": [
              "\n",
              "  <div id=\"df-3c0a17cb-178e-4cb1-8303-f098e2d5ee9a\">\n",
              "    <div class=\"colab-df-container\">\n",
              "      <div>\n",
              "<style scoped>\n",
              "    .dataframe tbody tr th:only-of-type {\n",
              "        vertical-align: middle;\n",
              "    }\n",
              "\n",
              "    .dataframe tbody tr th {\n",
              "        vertical-align: top;\n",
              "    }\n",
              "\n",
              "    .dataframe thead th {\n",
              "        text-align: right;\n",
              "    }\n",
              "</style>\n",
              "<table border=\"1\" class=\"dataframe\">\n",
              "  <thead>\n",
              "    <tr style=\"text-align: right;\">\n",
              "      <th></th>\n",
              "      <th>beds</th>\n",
              "      <th>bath</th>\n",
              "      <th>area</th>\n",
              "      <th>price</th>\n",
              "    </tr>\n",
              "  </thead>\n",
              "  <tbody>\n",
              "    <tr>\n",
              "      <th>0</th>\n",
              "      <td>3</td>\n",
              "      <td>4</td>\n",
              "      <td>2200.0</td>\n",
              "      <td>50000.0</td>\n",
              "    </tr>\n",
              "    <tr>\n",
              "      <th>1</th>\n",
              "      <td>3</td>\n",
              "      <td>4</td>\n",
              "      <td>1400.0</td>\n",
              "      <td>30000.0</td>\n",
              "    </tr>\n",
              "    <tr>\n",
              "      <th>2</th>\n",
              "      <td>3</td>\n",
              "      <td>4</td>\n",
              "      <td>1950.0</td>\n",
              "      <td>30000.0</td>\n",
              "    </tr>\n",
              "    <tr>\n",
              "      <th>3</th>\n",
              "      <td>3</td>\n",
              "      <td>3</td>\n",
              "      <td>2000.0</td>\n",
              "      <td>35000.0</td>\n",
              "    </tr>\n",
              "    <tr>\n",
              "      <th>4</th>\n",
              "      <td>3</td>\n",
              "      <td>4</td>\n",
              "      <td>1650.0</td>\n",
              "      <td>25000.0</td>\n",
              "    </tr>\n",
              "  </tbody>\n",
              "</table>\n",
              "</div>\n",
              "      <button class=\"colab-df-convert\" onclick=\"convertToInteractive('df-3c0a17cb-178e-4cb1-8303-f098e2d5ee9a')\"\n",
              "              title=\"Convert this dataframe to an interactive table.\"\n",
              "              style=\"display:none;\">\n",
              "        \n",
              "  <svg xmlns=\"http://www.w3.org/2000/svg\" height=\"24px\"viewBox=\"0 0 24 24\"\n",
              "       width=\"24px\">\n",
              "    <path d=\"M0 0h24v24H0V0z\" fill=\"none\"/>\n",
              "    <path d=\"M18.56 5.44l.94 2.06.94-2.06 2.06-.94-2.06-.94-.94-2.06-.94 2.06-2.06.94zm-11 1L8.5 8.5l.94-2.06 2.06-.94-2.06-.94L8.5 2.5l-.94 2.06-2.06.94zm10 10l.94 2.06.94-2.06 2.06-.94-2.06-.94-.94-2.06-.94 2.06-2.06.94z\"/><path d=\"M17.41 7.96l-1.37-1.37c-.4-.4-.92-.59-1.43-.59-.52 0-1.04.2-1.43.59L10.3 9.45l-7.72 7.72c-.78.78-.78 2.05 0 2.83L4 21.41c.39.39.9.59 1.41.59.51 0 1.02-.2 1.41-.59l7.78-7.78 2.81-2.81c.8-.78.8-2.07 0-2.86zM5.41 20L4 18.59l7.72-7.72 1.47 1.35L5.41 20z\"/>\n",
              "  </svg>\n",
              "      </button>\n",
              "      \n",
              "  <style>\n",
              "    .colab-df-container {\n",
              "      display:flex;\n",
              "      flex-wrap:wrap;\n",
              "      gap: 12px;\n",
              "    }\n",
              "\n",
              "    .colab-df-convert {\n",
              "      background-color: #E8F0FE;\n",
              "      border: none;\n",
              "      border-radius: 50%;\n",
              "      cursor: pointer;\n",
              "      display: none;\n",
              "      fill: #1967D2;\n",
              "      height: 32px;\n",
              "      padding: 0 0 0 0;\n",
              "      width: 32px;\n",
              "    }\n",
              "\n",
              "    .colab-df-convert:hover {\n",
              "      background-color: #E2EBFA;\n",
              "      box-shadow: 0px 1px 2px rgba(60, 64, 67, 0.3), 0px 1px 3px 1px rgba(60, 64, 67, 0.15);\n",
              "      fill: #174EA6;\n",
              "    }\n",
              "\n",
              "    [theme=dark] .colab-df-convert {\n",
              "      background-color: #3B4455;\n",
              "      fill: #D2E3FC;\n",
              "    }\n",
              "\n",
              "    [theme=dark] .colab-df-convert:hover {\n",
              "      background-color: #434B5C;\n",
              "      box-shadow: 0px 1px 3px 1px rgba(0, 0, 0, 0.15);\n",
              "      filter: drop-shadow(0px 1px 2px rgba(0, 0, 0, 0.3));\n",
              "      fill: #FFFFFF;\n",
              "    }\n",
              "  </style>\n",
              "\n",
              "      <script>\n",
              "        const buttonEl =\n",
              "          document.querySelector('#df-3c0a17cb-178e-4cb1-8303-f098e2d5ee9a button.colab-df-convert');\n",
              "        buttonEl.style.display =\n",
              "          google.colab.kernel.accessAllowed ? 'block' : 'none';\n",
              "\n",
              "        async function convertToInteractive(key) {\n",
              "          const element = document.querySelector('#df-3c0a17cb-178e-4cb1-8303-f098e2d5ee9a');\n",
              "          const dataTable =\n",
              "            await google.colab.kernel.invokeFunction('convertToInteractive',\n",
              "                                                     [key], {});\n",
              "          if (!dataTable) return;\n",
              "\n",
              "          const docLinkHtml = 'Like what you see? Visit the ' +\n",
              "            '<a target=\"_blank\" href=https://colab.research.google.com/notebooks/data_table.ipynb>data table notebook</a>'\n",
              "            + ' to learn more about interactive tables.';\n",
              "          element.innerHTML = '';\n",
              "          dataTable['output_type'] = 'display_data';\n",
              "          await google.colab.output.renderOutput(dataTable, element);\n",
              "          const docLink = document.createElement('div');\n",
              "          docLink.innerHTML = docLinkHtml;\n",
              "          element.appendChild(docLink);\n",
              "        }\n",
              "      </script>\n",
              "    </div>\n",
              "  </div>\n",
              "  "
            ]
          },
          "metadata": {},
          "execution_count": 65
        }
      ]
    },
    {
      "cell_type": "code",
      "source": [
        "scaler = MinMaxScaler()\n",
        "# scaler = StandardScaler()\n",
        "numeric_columns = ['beds', 'bath', 'area', 'price']\n",
        "data[numeric_columns] = scaler.fit_transform(data[numeric_columns])\n",
        "\n",
        "data.head()"
      ],
      "metadata": {
        "colab": {
          "base_uri": "https://localhost:8080/",
          "height": 206
        },
        "id": "GEvl-yzblG3u",
        "outputId": "70216fe0-0682-447f-e31d-4640142a4d0b"
      },
      "execution_count": null,
      "outputs": [
        {
          "output_type": "execute_result",
          "data": {
            "text/plain": [
              "       beds      bath      area     price\n",
              "0  0.057143  0.333333  0.060897  0.024999\n",
              "1  0.057143  0.333333  0.035256  0.014999\n",
              "2  0.057143  0.333333  0.052885  0.014999\n",
              "3  0.057143  0.222222  0.054487  0.017499\n",
              "4  0.057143  0.333333  0.043269  0.012499"
            ],
            "text/html": [
              "\n",
              "  <div id=\"df-e4c45b2e-8526-4f10-9d3d-31e75bba2994\">\n",
              "    <div class=\"colab-df-container\">\n",
              "      <div>\n",
              "<style scoped>\n",
              "    .dataframe tbody tr th:only-of-type {\n",
              "        vertical-align: middle;\n",
              "    }\n",
              "\n",
              "    .dataframe tbody tr th {\n",
              "        vertical-align: top;\n",
              "    }\n",
              "\n",
              "    .dataframe thead th {\n",
              "        text-align: right;\n",
              "    }\n",
              "</style>\n",
              "<table border=\"1\" class=\"dataframe\">\n",
              "  <thead>\n",
              "    <tr style=\"text-align: right;\">\n",
              "      <th></th>\n",
              "      <th>beds</th>\n",
              "      <th>bath</th>\n",
              "      <th>area</th>\n",
              "      <th>price</th>\n",
              "    </tr>\n",
              "  </thead>\n",
              "  <tbody>\n",
              "    <tr>\n",
              "      <th>0</th>\n",
              "      <td>0.057143</td>\n",
              "      <td>0.333333</td>\n",
              "      <td>0.060897</td>\n",
              "      <td>0.024999</td>\n",
              "    </tr>\n",
              "    <tr>\n",
              "      <th>1</th>\n",
              "      <td>0.057143</td>\n",
              "      <td>0.333333</td>\n",
              "      <td>0.035256</td>\n",
              "      <td>0.014999</td>\n",
              "    </tr>\n",
              "    <tr>\n",
              "      <th>2</th>\n",
              "      <td>0.057143</td>\n",
              "      <td>0.333333</td>\n",
              "      <td>0.052885</td>\n",
              "      <td>0.014999</td>\n",
              "    </tr>\n",
              "    <tr>\n",
              "      <th>3</th>\n",
              "      <td>0.057143</td>\n",
              "      <td>0.222222</td>\n",
              "      <td>0.054487</td>\n",
              "      <td>0.017499</td>\n",
              "    </tr>\n",
              "    <tr>\n",
              "      <th>4</th>\n",
              "      <td>0.057143</td>\n",
              "      <td>0.333333</td>\n",
              "      <td>0.043269</td>\n",
              "      <td>0.012499</td>\n",
              "    </tr>\n",
              "  </tbody>\n",
              "</table>\n",
              "</div>\n",
              "      <button class=\"colab-df-convert\" onclick=\"convertToInteractive('df-e4c45b2e-8526-4f10-9d3d-31e75bba2994')\"\n",
              "              title=\"Convert this dataframe to an interactive table.\"\n",
              "              style=\"display:none;\">\n",
              "        \n",
              "  <svg xmlns=\"http://www.w3.org/2000/svg\" height=\"24px\"viewBox=\"0 0 24 24\"\n",
              "       width=\"24px\">\n",
              "    <path d=\"M0 0h24v24H0V0z\" fill=\"none\"/>\n",
              "    <path d=\"M18.56 5.44l.94 2.06.94-2.06 2.06-.94-2.06-.94-.94-2.06-.94 2.06-2.06.94zm-11 1L8.5 8.5l.94-2.06 2.06-.94-2.06-.94L8.5 2.5l-.94 2.06-2.06.94zm10 10l.94 2.06.94-2.06 2.06-.94-2.06-.94-.94-2.06-.94 2.06-2.06.94z\"/><path d=\"M17.41 7.96l-1.37-1.37c-.4-.4-.92-.59-1.43-.59-.52 0-1.04.2-1.43.59L10.3 9.45l-7.72 7.72c-.78.78-.78 2.05 0 2.83L4 21.41c.39.39.9.59 1.41.59.51 0 1.02-.2 1.41-.59l7.78-7.78 2.81-2.81c.8-.78.8-2.07 0-2.86zM5.41 20L4 18.59l7.72-7.72 1.47 1.35L5.41 20z\"/>\n",
              "  </svg>\n",
              "      </button>\n",
              "      \n",
              "  <style>\n",
              "    .colab-df-container {\n",
              "      display:flex;\n",
              "      flex-wrap:wrap;\n",
              "      gap: 12px;\n",
              "    }\n",
              "\n",
              "    .colab-df-convert {\n",
              "      background-color: #E8F0FE;\n",
              "      border: none;\n",
              "      border-radius: 50%;\n",
              "      cursor: pointer;\n",
              "      display: none;\n",
              "      fill: #1967D2;\n",
              "      height: 32px;\n",
              "      padding: 0 0 0 0;\n",
              "      width: 32px;\n",
              "    }\n",
              "\n",
              "    .colab-df-convert:hover {\n",
              "      background-color: #E2EBFA;\n",
              "      box-shadow: 0px 1px 2px rgba(60, 64, 67, 0.3), 0px 1px 3px 1px rgba(60, 64, 67, 0.15);\n",
              "      fill: #174EA6;\n",
              "    }\n",
              "\n",
              "    [theme=dark] .colab-df-convert {\n",
              "      background-color: #3B4455;\n",
              "      fill: #D2E3FC;\n",
              "    }\n",
              "\n",
              "    [theme=dark] .colab-df-convert:hover {\n",
              "      background-color: #434B5C;\n",
              "      box-shadow: 0px 1px 3px 1px rgba(0, 0, 0, 0.15);\n",
              "      filter: drop-shadow(0px 1px 2px rgba(0, 0, 0, 0.3));\n",
              "      fill: #FFFFFF;\n",
              "    }\n",
              "  </style>\n",
              "\n",
              "      <script>\n",
              "        const buttonEl =\n",
              "          document.querySelector('#df-e4c45b2e-8526-4f10-9d3d-31e75bba2994 button.colab-df-convert');\n",
              "        buttonEl.style.display =\n",
              "          google.colab.kernel.accessAllowed ? 'block' : 'none';\n",
              "\n",
              "        async function convertToInteractive(key) {\n",
              "          const element = document.querySelector('#df-e4c45b2e-8526-4f10-9d3d-31e75bba2994');\n",
              "          const dataTable =\n",
              "            await google.colab.kernel.invokeFunction('convertToInteractive',\n",
              "                                                     [key], {});\n",
              "          if (!dataTable) return;\n",
              "\n",
              "          const docLinkHtml = 'Like what you see? Visit the ' +\n",
              "            '<a target=\"_blank\" href=https://colab.research.google.com/notebooks/data_table.ipynb>data table notebook</a>'\n",
              "            + ' to learn more about interactive tables.';\n",
              "          element.innerHTML = '';\n",
              "          dataTable['output_type'] = 'display_data';\n",
              "          await google.colab.output.renderOutput(dataTable, element);\n",
              "          const docLink = document.createElement('div');\n",
              "          docLink.innerHTML = docLinkHtml;\n",
              "          element.appendChild(docLink);\n",
              "        }\n",
              "      </script>\n",
              "    </div>\n",
              "  </div>\n",
              "  "
            ]
          },
          "metadata": {},
          "execution_count": 66
        }
      ]
    },
    {
      "cell_type": "code",
      "source": [
        "def compute_cost(X, y, weights):\n",
        "    m = len(y)\n",
        "    predictions = np.dot(X, weights)\n",
        "    squared_error = np.square(predictions - y)\n",
        "    cost = np.sum(squared_error) / (2 * m)\n",
        "\n",
        "    # print(cost)\n",
        "    return cost"
      ],
      "metadata": {
        "id": "d7PbX9U5xCMT"
      },
      "execution_count": null,
      "outputs": []
    },
    {
      "cell_type": "code",
      "source": [
        "def gradient_descent(X, y, weights, learning_rate, num_iterations):\n",
        "    m = len(y)\n",
        "    costs = []\n",
        "\n",
        "    for i in range(num_iterations):\n",
        "        predictions = np.dot(X, weights)\n",
        "        error = predictions - y\n",
        "        gradient = np.dot(X.T, error) / m\n",
        "        weights = weights - learning_rate * gradient\n",
        "        cost = compute_cost(X, y, weights)\n",
        "        costs.append(cost)\n",
        "    # print(weights,cost)\n",
        "    return weights, costs\n"
      ],
      "metadata": {
        "id": "XS-KKJXJyuGu"
      },
      "execution_count": null,
      "outputs": []
    },
    {
      "cell_type": "code",
      "source": [
        "train_data, test_data = train_test_split(data, test_size=0.2, random_state=42)\n",
        "train_data, val_data = train_test_split(train_data, test_size=0.25, random_state=42)\n",
        "\n",
        "X_train = train_data.drop('price', axis=1).values\n",
        "y_train = train_data['price'].values\n",
        "X_val = val_data.drop('price', axis=1).values\n",
        "y_val = val_data['price'].values\n",
        "X_test = test_data.drop('price', axis=1).values\n",
        "y_test = test_data['price'].values\n"
      ],
      "metadata": {
        "id": "KhP3vrvkwuGM"
      },
      "execution_count": null,
      "outputs": []
    },
    {
      "cell_type": "code",
      "source": [
        "X_train = np.hstack((np.ones((X_train.shape[0], 1)), X_train))\n",
        "X_val = np.hstack((np.ones((X_val.shape[0], 1)), X_val))\n",
        "X_test = np.hstack((np.ones((X_test.shape[0], 1)), X_test))\n",
        "\n",
        "weights = np.zeros(X_train.shape[1])\n"
      ],
      "metadata": {
        "id": "2sHnAqi81fS8"
      },
      "execution_count": null,
      "outputs": []
    },
    {
      "cell_type": "code",
      "source": [
        "learning_rate = 0.01\n",
        "num_iterations = 100\n",
        "\n",
        "weights, costs = gradient_descent(X_train, y_train, weights, learning_rate, num_iterations)\n",
        "\n"
      ],
      "metadata": {
        "id": "DBo52bYY1jaV"
      },
      "execution_count": null,
      "outputs": []
    },
    {
      "cell_type": "code",
      "source": [
        "for epoch in range(num_iterations):\n",
        "    train_cost = compute_cost(X_train, y_train, weights)\n",
        "    val_cost = compute_cost(X_val, y_val, weights)\n",
        "    print(f\"Epoch {epoch+1}: Training Loss = {train_cost}, Validation Loss = {val_cost}\")\n"
      ],
      "metadata": {
        "colab": {
          "base_uri": "https://localhost:8080/"
        },
        "id": "GHMRv63T25Aa",
        "outputId": "2e4a2a29-1446-492d-b500-488f64b52266"
      },
      "execution_count": null,
      "outputs": [
        {
          "output_type": "stream",
          "name": "stdout",
          "text": [
            "Epoch 1: Training Loss = 0.0002650224893794115, Validation Loss = 0.00016571343809800143\n",
            "Epoch 2: Training Loss = 0.0002650224893794115, Validation Loss = 0.00016571343809800143\n",
            "Epoch 3: Training Loss = 0.0002650224893794115, Validation Loss = 0.00016571343809800143\n",
            "Epoch 4: Training Loss = 0.0002650224893794115, Validation Loss = 0.00016571343809800143\n",
            "Epoch 5: Training Loss = 0.0002650224893794115, Validation Loss = 0.00016571343809800143\n",
            "Epoch 6: Training Loss = 0.0002650224893794115, Validation Loss = 0.00016571343809800143\n",
            "Epoch 7: Training Loss = 0.0002650224893794115, Validation Loss = 0.00016571343809800143\n",
            "Epoch 8: Training Loss = 0.0002650224893794115, Validation Loss = 0.00016571343809800143\n",
            "Epoch 9: Training Loss = 0.0002650224893794115, Validation Loss = 0.00016571343809800143\n",
            "Epoch 10: Training Loss = 0.0002650224893794115, Validation Loss = 0.00016571343809800143\n",
            "Epoch 11: Training Loss = 0.0002650224893794115, Validation Loss = 0.00016571343809800143\n",
            "Epoch 12: Training Loss = 0.0002650224893794115, Validation Loss = 0.00016571343809800143\n",
            "Epoch 13: Training Loss = 0.0002650224893794115, Validation Loss = 0.00016571343809800143\n",
            "Epoch 14: Training Loss = 0.0002650224893794115, Validation Loss = 0.00016571343809800143\n",
            "Epoch 15: Training Loss = 0.0002650224893794115, Validation Loss = 0.00016571343809800143\n",
            "Epoch 16: Training Loss = 0.0002650224893794115, Validation Loss = 0.00016571343809800143\n",
            "Epoch 17: Training Loss = 0.0002650224893794115, Validation Loss = 0.00016571343809800143\n",
            "Epoch 18: Training Loss = 0.0002650224893794115, Validation Loss = 0.00016571343809800143\n",
            "Epoch 19: Training Loss = 0.0002650224893794115, Validation Loss = 0.00016571343809800143\n",
            "Epoch 20: Training Loss = 0.0002650224893794115, Validation Loss = 0.00016571343809800143\n",
            "Epoch 21: Training Loss = 0.0002650224893794115, Validation Loss = 0.00016571343809800143\n",
            "Epoch 22: Training Loss = 0.0002650224893794115, Validation Loss = 0.00016571343809800143\n",
            "Epoch 23: Training Loss = 0.0002650224893794115, Validation Loss = 0.00016571343809800143\n",
            "Epoch 24: Training Loss = 0.0002650224893794115, Validation Loss = 0.00016571343809800143\n",
            "Epoch 25: Training Loss = 0.0002650224893794115, Validation Loss = 0.00016571343809800143\n",
            "Epoch 26: Training Loss = 0.0002650224893794115, Validation Loss = 0.00016571343809800143\n",
            "Epoch 27: Training Loss = 0.0002650224893794115, Validation Loss = 0.00016571343809800143\n",
            "Epoch 28: Training Loss = 0.0002650224893794115, Validation Loss = 0.00016571343809800143\n",
            "Epoch 29: Training Loss = 0.0002650224893794115, Validation Loss = 0.00016571343809800143\n",
            "Epoch 30: Training Loss = 0.0002650224893794115, Validation Loss = 0.00016571343809800143\n",
            "Epoch 31: Training Loss = 0.0002650224893794115, Validation Loss = 0.00016571343809800143\n",
            "Epoch 32: Training Loss = 0.0002650224893794115, Validation Loss = 0.00016571343809800143\n",
            "Epoch 33: Training Loss = 0.0002650224893794115, Validation Loss = 0.00016571343809800143\n",
            "Epoch 34: Training Loss = 0.0002650224893794115, Validation Loss = 0.00016571343809800143\n",
            "Epoch 35: Training Loss = 0.0002650224893794115, Validation Loss = 0.00016571343809800143\n",
            "Epoch 36: Training Loss = 0.0002650224893794115, Validation Loss = 0.00016571343809800143\n",
            "Epoch 37: Training Loss = 0.0002650224893794115, Validation Loss = 0.00016571343809800143\n",
            "Epoch 38: Training Loss = 0.0002650224893794115, Validation Loss = 0.00016571343809800143\n",
            "Epoch 39: Training Loss = 0.0002650224893794115, Validation Loss = 0.00016571343809800143\n",
            "Epoch 40: Training Loss = 0.0002650224893794115, Validation Loss = 0.00016571343809800143\n",
            "Epoch 41: Training Loss = 0.0002650224893794115, Validation Loss = 0.00016571343809800143\n",
            "Epoch 42: Training Loss = 0.0002650224893794115, Validation Loss = 0.00016571343809800143\n",
            "Epoch 43: Training Loss = 0.0002650224893794115, Validation Loss = 0.00016571343809800143\n",
            "Epoch 44: Training Loss = 0.0002650224893794115, Validation Loss = 0.00016571343809800143\n",
            "Epoch 45: Training Loss = 0.0002650224893794115, Validation Loss = 0.00016571343809800143\n",
            "Epoch 46: Training Loss = 0.0002650224893794115, Validation Loss = 0.00016571343809800143\n",
            "Epoch 47: Training Loss = 0.0002650224893794115, Validation Loss = 0.00016571343809800143\n",
            "Epoch 48: Training Loss = 0.0002650224893794115, Validation Loss = 0.00016571343809800143\n",
            "Epoch 49: Training Loss = 0.0002650224893794115, Validation Loss = 0.00016571343809800143\n",
            "Epoch 50: Training Loss = 0.0002650224893794115, Validation Loss = 0.00016571343809800143\n",
            "Epoch 51: Training Loss = 0.0002650224893794115, Validation Loss = 0.00016571343809800143\n",
            "Epoch 52: Training Loss = 0.0002650224893794115, Validation Loss = 0.00016571343809800143\n",
            "Epoch 53: Training Loss = 0.0002650224893794115, Validation Loss = 0.00016571343809800143\n",
            "Epoch 54: Training Loss = 0.0002650224893794115, Validation Loss = 0.00016571343809800143\n",
            "Epoch 55: Training Loss = 0.0002650224893794115, Validation Loss = 0.00016571343809800143\n",
            "Epoch 56: Training Loss = 0.0002650224893794115, Validation Loss = 0.00016571343809800143\n",
            "Epoch 57: Training Loss = 0.0002650224893794115, Validation Loss = 0.00016571343809800143\n",
            "Epoch 58: Training Loss = 0.0002650224893794115, Validation Loss = 0.00016571343809800143\n",
            "Epoch 59: Training Loss = 0.0002650224893794115, Validation Loss = 0.00016571343809800143\n",
            "Epoch 60: Training Loss = 0.0002650224893794115, Validation Loss = 0.00016571343809800143\n",
            "Epoch 61: Training Loss = 0.0002650224893794115, Validation Loss = 0.00016571343809800143\n",
            "Epoch 62: Training Loss = 0.0002650224893794115, Validation Loss = 0.00016571343809800143\n",
            "Epoch 63: Training Loss = 0.0002650224893794115, Validation Loss = 0.00016571343809800143\n",
            "Epoch 64: Training Loss = 0.0002650224893794115, Validation Loss = 0.00016571343809800143\n",
            "Epoch 65: Training Loss = 0.0002650224893794115, Validation Loss = 0.00016571343809800143\n",
            "Epoch 66: Training Loss = 0.0002650224893794115, Validation Loss = 0.00016571343809800143\n",
            "Epoch 67: Training Loss = 0.0002650224893794115, Validation Loss = 0.00016571343809800143\n",
            "Epoch 68: Training Loss = 0.0002650224893794115, Validation Loss = 0.00016571343809800143\n",
            "Epoch 69: Training Loss = 0.0002650224893794115, Validation Loss = 0.00016571343809800143\n",
            "Epoch 70: Training Loss = 0.0002650224893794115, Validation Loss = 0.00016571343809800143\n",
            "Epoch 71: Training Loss = 0.0002650224893794115, Validation Loss = 0.00016571343809800143\n",
            "Epoch 72: Training Loss = 0.0002650224893794115, Validation Loss = 0.00016571343809800143\n",
            "Epoch 73: Training Loss = 0.0002650224893794115, Validation Loss = 0.00016571343809800143\n",
            "Epoch 74: Training Loss = 0.0002650224893794115, Validation Loss = 0.00016571343809800143\n",
            "Epoch 75: Training Loss = 0.0002650224893794115, Validation Loss = 0.00016571343809800143\n",
            "Epoch 76: Training Loss = 0.0002650224893794115, Validation Loss = 0.00016571343809800143\n",
            "Epoch 77: Training Loss = 0.0002650224893794115, Validation Loss = 0.00016571343809800143\n",
            "Epoch 78: Training Loss = 0.0002650224893794115, Validation Loss = 0.00016571343809800143\n",
            "Epoch 79: Training Loss = 0.0002650224893794115, Validation Loss = 0.00016571343809800143\n",
            "Epoch 80: Training Loss = 0.0002650224893794115, Validation Loss = 0.00016571343809800143\n",
            "Epoch 81: Training Loss = 0.0002650224893794115, Validation Loss = 0.00016571343809800143\n",
            "Epoch 82: Training Loss = 0.0002650224893794115, Validation Loss = 0.00016571343809800143\n",
            "Epoch 83: Training Loss = 0.0002650224893794115, Validation Loss = 0.00016571343809800143\n",
            "Epoch 84: Training Loss = 0.0002650224893794115, Validation Loss = 0.00016571343809800143\n",
            "Epoch 85: Training Loss = 0.0002650224893794115, Validation Loss = 0.00016571343809800143\n",
            "Epoch 86: Training Loss = 0.0002650224893794115, Validation Loss = 0.00016571343809800143\n",
            "Epoch 87: Training Loss = 0.0002650224893794115, Validation Loss = 0.00016571343809800143\n",
            "Epoch 88: Training Loss = 0.0002650224893794115, Validation Loss = 0.00016571343809800143\n",
            "Epoch 89: Training Loss = 0.0002650224893794115, Validation Loss = 0.00016571343809800143\n",
            "Epoch 90: Training Loss = 0.0002650224893794115, Validation Loss = 0.00016571343809800143\n",
            "Epoch 91: Training Loss = 0.0002650224893794115, Validation Loss = 0.00016571343809800143\n",
            "Epoch 92: Training Loss = 0.0002650224893794115, Validation Loss = 0.00016571343809800143\n",
            "Epoch 93: Training Loss = 0.0002650224893794115, Validation Loss = 0.00016571343809800143\n",
            "Epoch 94: Training Loss = 0.0002650224893794115, Validation Loss = 0.00016571343809800143\n",
            "Epoch 95: Training Loss = 0.0002650224893794115, Validation Loss = 0.00016571343809800143\n",
            "Epoch 96: Training Loss = 0.0002650224893794115, Validation Loss = 0.00016571343809800143\n",
            "Epoch 97: Training Loss = 0.0002650224893794115, Validation Loss = 0.00016571343809800143\n",
            "Epoch 98: Training Loss = 0.0002650224893794115, Validation Loss = 0.00016571343809800143\n",
            "Epoch 99: Training Loss = 0.0002650224893794115, Validation Loss = 0.00016571343809800143\n",
            "Epoch 100: Training Loss = 0.0002650224893794115, Validation Loss = 0.00016571343809800143\n"
          ]
        }
      ]
    },
    {
      "cell_type": "code",
      "source": [
        "test_cost = compute_cost(X_test, y_test, weights)\n",
        "print(\"Test Loss:\", test_cost)"
      ],
      "metadata": {
        "colab": {
          "base_uri": "https://localhost:8080/"
        },
        "id": "tMgFJ8hQ27mV",
        "outputId": "b9d33ee1-493e-494a-ed9c-08bebb8baf7b"
      },
      "execution_count": null,
      "outputs": [
        {
          "output_type": "stream",
          "name": "stdout",
          "text": [
            "Test Loss: 0.0005213189566025826\n"
          ]
        }
      ]
    },
    {
      "cell_type": "code",
      "source": [
        "y_pred = np.dot(X_test, weights)\n",
        "mse = mean_squared_error(y_test, y_pred)\n",
        "print(\"Mean Squared Error (MSE):\", mse)\n",
        "\n",
        "rmse = np.sqrt(mse)\n",
        "print(\"Root Mean Squared Error (RMSE):\", rmse)\n"
      ],
      "metadata": {
        "colab": {
          "base_uri": "https://localhost:8080/"
        },
        "id": "pOhJq8e58wHK",
        "outputId": "6fa4c31a-714b-41a4-8d78-85a9961373b4"
      },
      "execution_count": null,
      "outputs": [
        {
          "output_type": "stream",
          "name": "stdout",
          "text": [
            "Mean Squared Error (MSE): 0.0010426379132051653\n",
            "Root Mean Squared Error (RMSE): 0.032289904199380416\n"
          ]
        }
      ]
    },
    {
      "cell_type": "code",
      "source": [
        "y_pred = np.dot(X_test, weights)\n",
        "\n",
        "mse = np.mean((y_pred - y_test) ** 2)\n",
        "\n",
        "rmse = np.sqrt(mse)\n",
        "\n",
        "print(\"Mean Squared Error (MSE) on Test Set:\", mse)\n",
        "print(\"Root Mean Squared Error (RMSE) on Test Set:\", rmse)\n"
      ],
      "metadata": {
        "colab": {
          "base_uri": "https://localhost:8080/"
        },
        "id": "xF7-oOit2-fe",
        "outputId": "f130fd31-fcc2-4efc-e33c-8033d6a96556"
      },
      "execution_count": null,
      "outputs": [
        {
          "output_type": "stream",
          "name": "stdout",
          "text": [
            "Mean Squared Error (MSE) on Test Set: 0.0010426379132051653\n",
            "Root Mean Squared Error (RMSE) on Test Set: 0.032289904199380416\n"
          ]
        }
      ]
    },
    {
      "cell_type": "code",
      "source": [],
      "metadata": {
        "id": "6VVS2SU39fB5"
      },
      "execution_count": null,
      "outputs": []
    }
  ]
}